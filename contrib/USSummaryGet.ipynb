{
 "cells": [
  {
   "cell_type": "code",
   "execution_count": 1,
   "id": "0ed48e6f",
   "metadata": {},
   "outputs": [],
   "source": [
    "import requests_cache\n",
    "import time\n",
    "from requests.exceptions import HTTPError, ConnectionError, Timeout, RequestException\n",
    "from requests.adapters import HTTPAdapter\n",
    "from urllib3 import Retry\n",
    "from datetime import timedelta\n",
    "from pprint import PrettyPrinter\n",
    "import pandas as pd\n",
    "\n",
    "\n",
    "class APIManager:\n",
    "    \"\"\"\n",
    "    APIManager class\n",
    "\n",
    "    This singleton class interfaces with the US Census API.\n",
    "    \"\"\"\n",
    "\n",
    "    def __init__(self):\n",
    "        \"\"\"\n",
    "\n",
    "        Constructor\n",
    "\n",
    "        Sets up the connection to the US Census API.\n",
    "\n",
    "        Returns:\n",
    "            An instance of the APIManager\n",
    "        \"\"\"\n",
    "        session = requests_cache.CachedSession(\n",
    "            \"api-response-cache\",\n",
    "            backend=\"filesystem\",\n",
    "            expire_after=timedelta(days=1),\n",
    "        )\n",
    "        retry = Retry(total=5, backoff_factor=1)\n",
    "        adapter = HTTPAdapter(max_retries=retry)\n",
    "        base_url = \"https://api.census.gov/data\"\n",
    "        session.mount(base_url, adapter)\n",
    "\n",
    "        self.session = session\n",
    "        self.base_url = base_url\n",
    "\n",
    "    def api_call(self, url=\"\", params=None):\n",
    "        \"\"\"\n",
    "        api_call\n",
    "\n",
    "        Handles the request to the US Census API.\n",
    "\n",
    "        Arguments:\n",
    "            - url (str): the url to request; appended onto the base_url\n",
    "            - params (dict): the parameters to pass into the request\n",
    "\n",
    "        Returns:\n",
    "            The response data in json format\n",
    "        \"\"\"\n",
    "        start = time.time()\n",
    "        print(f\"API call in progress...\")\n",
    "\n",
    "        try:\n",
    "            response = self.session.get(self.base_url + url, params=params, timeout=10)\n",
    "            response.raise_for_status()\n",
    "        # TODO: handle errors separately\n",
    "        except HTTPError as e:\n",
    "            print(f\"Failed API call (HTTPError): {e}\")\n",
    "            raise\n",
    "        except ConnectionError as e:\n",
    "            print(f\"Failed API call (ConnectionError): {e}\")\n",
    "            raise\n",
    "        except Timeout as e:\n",
    "            print(f\"Failed API call (Timeout): {e}\")\n",
    "            raise\n",
    "        except RequestException as e:\n",
    "            print(f\"Failed API call (RequestException): {e}\")\n",
    "            raise\n",
    "        else:\n",
    "            elapsed = time.time() - start\n",
    "            info = \"from cache\" if response.from_cache else f\"took {round(elapsed)}s\"\n",
    "            print(f\"Successful API call ({info}): {response.url}\")\n",
    "\n",
    "            return response.json()\n",
    "\n",
    "\n",
    "api_manager = APIManager()"
   ]
  },
  {
   "cell_type": "code",
   "execution_count": 2,
   "id": "03b7f7e6",
   "metadata": {},
   "outputs": [],
   "source": [
    "census_year = \"2021\"\n",
    "api_key = \"e3061d8962ee2b9822717e18093c29337bca18df\"\n",
    "profile_URL = \"/{}/acs/acs5/profile\".format(census_year)"
   ]
  },
  {
   "cell_type": "code",
   "execution_count": 3,
   "id": "a5287c41",
   "metadata": {},
   "outputs": [
    {
     "name": "stdout",
     "output_type": "stream",
     "text": [
      "API call in progress...\n",
      "Successful API call (from cache): https://api.census.gov/data/2021/acs/acs5/profile/variables.json\n"
     ]
    }
   ],
   "source": [
    "vars_json = profile_URL + \"/variables.json\"\n",
    "variable_list = api_manager.api_call(vars_json)\n",
    "var_list = [\n",
    "    x for x, v in variable_list[\"variables\"].items() if x not in [\"for\", \"in\", \"ucgid\"]\n",
    "]"
   ]
  },
  {
   "cell_type": "code",
   "execution_count": null,
   "id": "1b33fcbf",
   "metadata": {},
   "outputs": [],
   "source": []
  }
 ],
 "metadata": {
  "kernelspec": {
   "display_name": "Python 3 (ipykernel)",
   "language": "python",
   "name": "python3"
  },
  "language_info": {
   "codemirror_mode": {
    "name": "ipython",
    "version": 3
   },
   "file_extension": ".py",
   "mimetype": "text/x-python",
   "name": "python",
   "nbconvert_exporter": "python",
   "pygments_lexer": "ipython3",
   "version": "3.10.9"
  }
 },
 "nbformat": 4,
 "nbformat_minor": 5
}
